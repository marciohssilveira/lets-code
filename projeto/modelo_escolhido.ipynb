{
 "cells": [
  {
   "cell_type": "markdown",
   "id": "72612a4e",
   "metadata": {},
   "source": [
    "# Turma #867 - Projeto Machine Learning I\n",
    "\n",
    "## Equipe XX\n",
    "\n",
    "### Modelo Escolhido "
   ]
  },
  {
   "cell_type": "code",
   "execution_count": null,
   "id": "13d84de6",
   "metadata": {},
   "outputs": [],
   "source": []
  }
 ],
 "metadata": {
  "kernelspec": {
   "display_name": "Python 3 (ipykernel)",
   "language": "python",
   "name": "python3"
  },
  "language_info": {
   "codemirror_mode": {
    "name": "ipython",
    "version": 3
   },
   "file_extension": ".py",
   "mimetype": "text/x-python",
   "name": "python",
   "nbconvert_exporter": "python",
   "pygments_lexer": "ipython3",
   "version": "3.9.12"
  },
  "vscode": {
   "interpreter": {
    "hash": "eee1926640366f37e39696eb6b07093ada1a21ae00d562061afe6daa7c660301"
   }
  }
 },
 "nbformat": 4,
 "nbformat_minor": 5
}
