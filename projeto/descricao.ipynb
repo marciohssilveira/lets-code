{
 "cells": [
  {
   "cell_type": "markdown",
   "id": "d39df173",
   "metadata": {},
   "source": [
    "# Turma #867 - Projeto Machine Learning II"
   ]
  },
  {
   "cell_type": "markdown",
   "id": "d8c59380",
   "metadata": {},
   "source": [
    "## Deadline\n",
    "\n",
    "05/out/2022\n",
    "\n",
    "*Provável que seja esticado até 10/out/2022,* **a confirmar**"
   ]
  },
  {
   "cell_type": "markdown",
   "id": "43f2c0f5",
   "metadata": {},
   "source": [
    "## Entrega\n",
    "\n",
    "Enviar um único email com nome dos participantes do projeto para:\n",
    "\n",
    "- rychard.guedes@ada.tech"
   ]
  },
  {
   "cell_type": "markdown",
   "id": "690564fe",
   "metadata": {},
   "source": [
    "## Contextualização\n",
    "A PyCoders Ltda., cada vez mais especializada no mundo da Inteligência Artificial e Ciência de Dados, foi procurada por uma fintech para desenvolver um projeto de concessão de crédito para imóveis. Nesse projeto, espera-se a criação de valor que discrimine ao máximo os bons pagadores dos maus pagadores. Para isso, foi disponibilizada uma base de dados com milhares de casos de empréstimos do passado com diversas características dos clientes. Devem ser entregues um modelo. Por questões contratuais, o pagamento será realizado baseado no desempenho (ROC AUC) do modelo ao longo do tempo."
   ]
  },
  {
   "cell_type": "markdown",
   "id": "fb0b303f",
   "metadata": {},
   "source": [
    "## Highlights\n",
    "\n",
    "- Vamos continuar utilizando as bases do módulo passado, todo o progresso até aqui será mantido.\n",
    "- Por enquanto, continuaremos apenas com `application_train.csv` e `application_test_student.csv`.\n",
    "- Vamos começar a olhar para performance! Lembrem-se de olhar sempre para **ROC AUC**."
   ]
  },
  {
   "cell_type": "markdown",
   "id": "21d228ba",
   "metadata": {},
   "source": [
    "## Base de Dados\n",
    "Serão utilizadas bases de dados com informações cadastrais, histórico de crédito e balanços financeiros de diversos clientes. O conjunto de dados está dividido em treino e teste, todos no formato csv. Toda a modelagem, validação e avaliação deve ser feita em cima do conjunto de treino, subdividindo tal base como a squad achar melhor. Existe também os das variáveis explicativas, para ajudar no desenvolvimento do projeto. Serão necessários diversos cruzamentos e vocês estão livres para usar os dados da maneira que acharem mais conveniente.\n",
    "\n",
    "[Baixar](https://drive.google.com/file/d/17fyteuN2MdGdbP5_Xq_sySN_yH91vTup/view?usp=sharing)"
   ]
  },
  {
   "cell_type": "markdown",
   "id": "aa83f46e",
   "metadata": {},
   "source": [
    "## Equipes\n",
    "\n",
    "**Se manterão as mesmas.**\n",
    "\n",
    "- Equipe 1\n",
    "    - Marcio Henrique dos Santos Silveira\n",
    "    - Frederico Fernandes Soares\n",
    "    - Bruno Baring\n",
    "    - Marilia Fernandes Costa\n",
    "    - Luísa Callegari de Oliveira\n",
    "- Equipe 2\n",
    "    - Marília Dal Mollin da Rosa\n",
    "    - Karina Baumgarten\n",
    "    - Lorena Bernardo Vianna\n",
    "    - Magnovaldo Carneiro\n",
    "    - Angelica Valiati Maran Derenevick\n",
    "- Equipe 3\n",
    "    - Mariana de Cassia Soares Nunes Cunha\n",
    "    - Deborah Soares Cardoso\n",
    "    - Luiz Henrique Simioni Machado\n",
    "    - Eden de Oliveira Santana\n",
    "    - Luiz Gabriel de Souza\n",
    "- Equipe 4\n",
    "    - Richard Raphael Banak\n",
    "    - Helen Cristina de Acypreste Rocha\n",
    "    - Adriana Roberta Miceli de Souza\n",
    "    - Debora Kassem Buturi\n",
    "    - Marcus Bruno Paixão Fontes\n",
    "- Equipe 5\n",
    "    - Virgínia de Fernandes Souza\n",
    "    - Marlon Martins Cunha\n",
    "    - Amanda Barbosa Morais\n",
    "    - Pablo Ernesto Vigneaux Wilton\n",
    "    - Amanda Costa Spolti"
   ]
  },
  {
   "cell_type": "markdown",
   "id": "73de8b11",
   "metadata": {},
   "source": [
    "## Entregáveis"
   ]
  },
  {
   "cell_type": "markdown",
   "id": "673f5399",
   "metadata": {},
   "source": [
    "- Dois notebooks: (i) com a investigação e comparações feitas; (ii) com o fluxo limpo do modelo escolhido.\n",
    "- Crie pipeline para o modelo.\n",
    "- Realize processo de otimização dos hiperparâmetros.\n",
    "- Utilize pelo menos uma variável categórica e pelo menos uma variável numérica.\n",
    "- Para garantir robustez, adicione uma camada de imputação de missing para todas as features. Reflita sobre qual é a melhor estratégia para cada uma das variáveis explicativas.\n",
    "- Não foque mais em utilizar apenas 5 variáveis, vamos abrir os horizontes e buscar outras features que podem ser úteis. Vale salientar que a depender do modelo, não adianta simplesmente colocar todas porque isso pode gerar problemas de overfitting, de underfitting ou de eficiência computacional, então será necessário fazer algum tipo de seleção.\n",
    "- Apenas um modelo será entregue. Faça a escolha baseando-se em performance, mas levando em consideração custo computacional. Descreva o processo de decisão e argumente a favor do modelo - deve estar dentro do fluxo limpo, no notebook modelo escolhido, no início.\n",
    "- Para marcar a previsão, use a probabilidade do evento (sem binarizar).\n",
    "- **Meta em bater pelo menos 0.70 de AUC. Se não conseguir, não há problema, mas falar antecipadamente com Rychard/Bruno.**"
   ]
  },
  {
   "cell_type": "code",
   "execution_count": null,
   "id": "a3438a8a",
   "metadata": {},
   "outputs": [],
   "source": []
  }
 ],
 "metadata": {
  "kernelspec": {
   "display_name": "Python 3 (ipykernel)",
   "language": "python",
   "name": "python3"
  },
  "language_info": {
   "codemirror_mode": {
    "name": "ipython",
    "version": 3
   },
   "file_extension": ".py",
   "mimetype": "text/x-python",
   "name": "python",
   "nbconvert_exporter": "python",
   "pygments_lexer": "ipython3",
   "version": "3.9.12"
  },
  "vscode": {
   "interpreter": {
    "hash": "eee1926640366f37e39696eb6b07093ada1a21ae00d562061afe6daa7c660301"
   }
  }
 },
 "nbformat": 4,
 "nbformat_minor": 5
}
